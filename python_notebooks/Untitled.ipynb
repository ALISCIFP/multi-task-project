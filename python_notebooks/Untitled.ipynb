{
 "cells": [
  {
   "cell_type": "markdown",
   "metadata": {},
   "source": [
    "# Evaluations\n",
    "\n",
    "## Joint Model"
   ]
  },
  {
   "cell_type": "code",
   "execution_count": 1,
   "metadata": {
    "collapsed": false
   },
   "outputs": [
    {
     "name": "stdout",
     "output_type": "stream",
     "text": [
      "generating latex tables - chunk train\n",
      "program output:         & Precision &  Recall  & F$_{\\beta=1} \\\\\\hline\n",
      "ADJP    &   67.02\\% &  60.96\\% &  63.85 \\\\\n",
      "ADVP    &   73.40\\% &  76.09\\% &  74.72 \\\\\n",
      "CONJP   &    0.00\\% &   0.00\\% &   0.00 \\\\\n",
      "INTJ    &    0.00\\% &   0.00\\% &   0.00 \\\\\n",
      "LST     &    0.00\\% &   0.00\\% &   0.00 \\\\\n",
      "NP      &   91.40\\% &  94.54\\% &  92.94 \\\\\n",
      "PP      &   92.26\\% &  95.37\\% &  93.79 \\\\\n",
      "PRT     &   71.65\\% &  77.25\\% &  74.34 \\\\\n",
      "SBAR    &   79.61\\% &  69.25\\% &  74.07 \\\\\n",
      "UCP     &    0.00\\% &   0.00\\% &   0.00 \\\\\n",
      "VP      &   87.96\\% &  90.21\\% &  89.07 \\\\\\hline\n",
      "Overall &   89.38\\% &  91.72\\% &  90.54 \\\\\\hline\n",
      "\n",
      "generating latex tables - chunk valid\n",
      "program output:         & Precision &  Recall  & F$_{\\beta=1} \\\\\\hline\n",
      "ADJP    &   57.77\\% &  46.75\\% &  51.68 \\\\\n",
      "ADVP    &   69.26\\% &  70.05\\% &  69.65 \\\\\n",
      "CONJP   &    0.00\\% &   0.00\\% &   0.00 \\\\\n",
      "INTJ    &    0.00\\% &   0.00\\% &   0.00 \\\\\n",
      "NP      &   85.48\\% &  88.99\\% &  87.20 \\\\\n",
      "PP      &   90.30\\% &  94.30\\% &  92.26 \\\\\n",
      "PRT     &   58.73\\% &  74.00\\% &  65.49 \\\\\n",
      "SBAR    &   72.50\\% &  62.06\\% &  66.88 \\\\\n",
      "UCP     &    0.00\\% &   0.00\\% &   0.00 \\\\\n",
      "VP      &   78.52\\% &  82.44\\% &  80.44 \\\\\\hline\n",
      "Overall &   83.64\\% &  86.51\\% &  85.05 \\\\\\hline\n",
      "\n",
      "generating accuracy - pos train\n",
      "0.96158\n",
      "generating accruacy - pos valid\n",
      "0.92572701654\n"
     ]
    }
   ],
   "source": [
    "import os\n",
    "from pos_eval import pos_eval\n",
    "import numpy as np\n",
    "import subprocess\n",
    "\n",
    "print('generating latex tables - chunk train')\n",
    "cmd = 'perl eval.pl -l < ../../data/current_outcome/chunk_pred_train.txt'\n",
    "proc = subprocess.Popen([cmd], stdout=subprocess.PIPE, shell=True)\n",
    "(out, err) = proc.communicate()\n",
    "print \"program output:\"\n",
    "print out\n",
    "\n",
    "print('generating latex tables - chunk valid')\n",
    "cmd = 'perl eval.pl -l < ../../data/current_outcome/chunk_pred_val.txt'\n",
    "proc = subprocess.Popen([cmd], stdout=subprocess.PIPE, shell=True)\n",
    "(out, err) = proc.communicate()\n",
    "print \"program output:\"\n",
    "print out\n",
    "\n",
    "print('generating accuracy - pos train')\n",
    "print(pos_eval('../../data/current_outcome/pos_pred_train.txt'))\n",
    "\n",
    "print('generating accruacy - pos valid')\n",
    "print(pos_eval('../../data/current_outcome/pos_pred_val.txt'))\n"
   ]
  },
  {
   "cell_type": "markdown",
   "metadata": {},
   "source": [
    "## switching"
   ]
  },
  {
   "cell_type": "code",
   "execution_count": 2,
   "metadata": {
    "collapsed": false
   },
   "outputs": [
    {
     "name": "stdout",
     "output_type": "stream",
     "text": [
      "generating latex tables - chunk train\n",
      "program output:\n",
      "        & Precision &  Recall  & F$_{\\beta=1} \\\\\\hline\n",
      "ADJP    &   60.48\\% &  52.61\\% &  56.27 \\\\\n",
      "ADVP    &   68.73\\% &  72.13\\% &  70.39 \\\\\n",
      "CONJP   &    0.00\\% &   0.00\\% &   0.00 \\\\\n",
      "INTJ    &    0.00\\% &   0.00\\% &   0.00 \\\\\n",
      "LST     &    0.00\\% &   0.00\\% &   0.00 \\\\\n",
      "NP      &   89.18\\% &  93.40\\% &  91.25 \\\\\n",
      "PP      &   90.36\\% &  95.03\\% &  92.63 \\\\\n",
      "PRT     &   68.40\\% &  71.80\\% &  70.06 \\\\\n",
      "SBAR    &   76.64\\% &  69.94\\% &  73.13 \\\\\n",
      "UCP     &    0.00\\% &   0.00\\% &   0.00 \\\\\n",
      "VP      &   85.81\\% &  87.17\\% &  86.48 \\\\\\hline\n",
      "Overall &   87.11\\% &  90.12\\% &  88.59 \\\\\\hline\n",
      "\n",
      "generating latex tables - chunk valid\n",
      "program output:\n",
      "        & Precision &  Recall  & F$_{\\beta=1} \\\\\\hline\n",
      "ADJP    &   50.83\\% &  38.70\\% &  43.95 \\\\\n",
      "ADVP    &   66.16\\% &  70.05\\% &  68.05 \\\\\n",
      "CONJP   &    0.00\\% &   0.00\\% &   0.00 \\\\\n",
      "INTJ    &    0.00\\% &   0.00\\% &   0.00 \\\\\n",
      "NP      &   84.29\\% &  88.78\\% &  86.47 \\\\\n",
      "PP      &   88.63\\% &  94.14\\% &  91.30 \\\\\n",
      "PRT     &   59.77\\% &  69.33\\% &  64.20 \\\\\n",
      "SBAR    &   68.15\\% &  62.50\\% &  65.20 \\\\\n",
      "UCP     &    0.00\\% &   0.00\\% &   0.00 \\\\\n",
      "VP      &   78.52\\% &  80.29\\% &  79.40 \\\\\\hline\n",
      "Overall &   82.44\\% &  85.77\\% &  84.07 \\\\\\hline\n",
      "\n",
      "generating accuracy - pos train\n",
      "0.956633333333\n",
      "generating accruacy - pos valid\n",
      "0.92338108798\n"
     ]
    }
   ],
   "source": [
    "import os\n",
    "from pos_eval import pos_eval\n",
    "import numpy as np\n",
    "import subprocess\n",
    "\n",
    "print('generating latex tables - chunk train')\n",
    "cmd = 'perl eval.pl -l < ../../data/switching/chunk_pred_train.txt'\n",
    "proc = subprocess.Popen([cmd], stdout=subprocess.PIPE, shell=True)\n",
    "(out, err) = proc.communicate()\n",
    "print \"program output:\"\n",
    "print out\n",
    "\n",
    "print('generating latex tables - chunk valid')\n",
    "cmd = 'perl eval.pl -l < ../../data/switching/chunk_pred_val.txt'\n",
    "proc = subprocess.Popen([cmd], stdout=subprocess.PIPE, shell=True)\n",
    "(out, err) = proc.communicate()\n",
    "print \"program output:\"\n",
    "print out\n",
    "\n",
    "print('generating accuracy - pos train')\n",
    "print(pos_eval('../../data/switching/pos_pred_train.txt'))\n",
    "\n",
    "print('generating accruacy - pos valid')\n",
    "print(pos_eval('../../data/switching/pos_pred_val.txt'))"
   ]
  },
  {
   "cell_type": "markdown",
   "metadata": {
    "collapsed": true
   },
   "source": [
    "# Single"
   ]
  },
  {
   "cell_type": "code",
   "execution_count": 4,
   "metadata": {
    "collapsed": false
   },
   "outputs": [
    {
     "name": "stdout",
     "output_type": "stream",
     "text": [
      "generating latex tables - chunk train\n",
      "program output:\n",
      "        & Precision &  Recall  & F$_{\\beta=1} \\\\\\hline\n",
      "ADJP    &   82.04\\% &  76.62\\% &  79.24 \\\\\n",
      "ADVP    &   81.89\\% &  82.77\\% &  82.33 \\\\\n",
      "CONJP   &    0.00\\% &   0.00\\% &   0.00 \\\\\n",
      "INTJ    &    0.00\\% &   0.00\\% &   0.00 \\\\\n",
      "LST     &    0.00\\% &   0.00\\% &   0.00 \\\\\n",
      "NP      &   95.49\\% &  97.05\\% &  96.26 \\\\\n",
      "PP      &   93.77\\% &  97.67\\% &  95.68 \\\\\n",
      "PRT     &   73.86\\% &  80.33\\% &  76.96 \\\\\n",
      "SBAR    &   81.58\\% &  72.96\\% &  77.03 \\\\\n",
      "UCP     &    0.00\\% &   0.00\\% &   0.00 \\\\\n",
      "VP      &   93.44\\% &  94.50\\% &  93.96 \\\\\\hline\n",
      "Overall &   93.53\\% &  94.99\\% &  94.26 \\\\\\hline\n",
      "\n",
      "generating latex tables - chunk valid\n",
      "program output:\n",
      "        & Precision &  Recall  & F$_{\\beta=1} \\\\\\hline\n",
      "ADJP    &   61.88\\% &  51.13\\% &  55.99 \\\\\n",
      "ADVP    &   69.83\\% &  69.67\\% &  69.75 \\\\\n",
      "CONJP   &    0.00\\% &   0.00\\% &   0.00 \\\\\n",
      "INTJ    &    0.00\\% &   0.00\\% &   0.00 \\\\\n",
      "NP      &   84.88\\% &  87.98\\% &  86.40 \\\\\n",
      "PP      &   90.33\\% &  95.52\\% &  92.85 \\\\\n",
      "PRT     &   57.58\\% &  76.00\\% &  65.52 \\\\\n",
      "SBAR    &   69.76\\% &  62.35\\% &  65.85 \\\\\n",
      "UCP     &    0.00\\% &   0.00\\% &   0.00 \\\\\n",
      "VP      &   78.00\\% &  81.72\\% &  79.82 \\\\\\hline\n",
      "Overall &   83.26\\% &  86.18\\% &  84.69 \\\\\\hline\n",
      "\n",
      "generating accuracy - pos train\n",
      "0.0211733333333\n",
      "generating accruacy - pos valid\n",
      "0.0219543502958\n"
     ]
    }
   ],
   "source": [
    "import os\n",
    "from pos_eval import pos_eval\n",
    "import numpy as np\n",
    "import subprocess\n",
    "\n",
    "print('generating latex tables - chunk train')\n",
    "cmd = 'perl eval.pl -l < ../../data/current_outcome/chunk_pred_train.txt'\n",
    "proc = subprocess.Popen([cmd], stdout=subprocess.PIPE, shell=True)\n",
    "(out, err) = proc.communicate()\n",
    "print \"program output:\"\n",
    "print out\n",
    "\n",
    "print('generating latex tables - chunk valid')\n",
    "cmd = 'perl eval.pl -l < ../../data/current_outcome/chunk_pred_val.txt'\n",
    "proc = subprocess.Popen([cmd], stdout=subprocess.PIPE, shell=True)\n",
    "(out, err) = proc.communicate()\n",
    "print \"program output:\"\n",
    "print out\n",
    "\n",
    "print('generating accuracy - pos train')\n",
    "print(pos_eval('../../data/current_outcome/pos_pred_train.txt'))\n",
    "\n",
    "print('generating accruacy - pos valid')\n",
    "print(pos_eval('../../data/current_outcome/pos_pred_val.txt'))\n"
   ]
  },
  {
   "cell_type": "code",
   "execution_count": null,
   "metadata": {
    "collapsed": true
   },
   "outputs": [],
   "source": []
  }
 ],
 "metadata": {
  "kernelspec": {
   "display_name": "Python 2",
   "language": "python",
   "name": "python2"
  },
  "language_info": {
   "codemirror_mode": {
    "name": "ipython",
    "version": 2
   },
   "file_extension": ".py",
   "mimetype": "text/x-python",
   "name": "python",
   "nbconvert_exporter": "python",
   "pygments_lexer": "ipython2",
   "version": "2.7.11"
  }
 },
 "nbformat": 4,
 "nbformat_minor": 0
}
