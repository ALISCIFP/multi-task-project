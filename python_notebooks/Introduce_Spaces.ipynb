{
 "cells": [
  {
   "cell_type": "code",
   "execution_count": 49,
   "metadata": {
    "collapsed": false
   },
   "outputs": [],
   "source": [
    "import csv\n",
    "import pdb\n",
    "file = '../../data/outputs/random_lm_30_epoch_June_27_Conll_glove/predictions/chunk_pred_test0.txt'\n",
    "\n",
    "res = []\n",
    "\n",
    "with open(file, 'rt') as csvfile:\n",
    "    reader = csv.reader(csvfile, delimiter=' ')\n",
    "    for row in reader:\n",
    "        res.append(row)\n",
    "        if row[0]=='.':\n",
    "            res.append(['','','',''])     \n"
   ]
  },
  {
   "cell_type": "code",
   "execution_count": 50,
   "metadata": {
    "collapsed": false
   },
   "outputs": [],
   "source": [
    "res_file = '../../data/outputs/random_lm_30_epoch_June_27_Conll_glove/predictions/chunk_pred_test.txt'\n",
    "import numpy as np\n",
    "np.savetxt(res_file, np.array(res), fmt='%s', delimiter=' ')"
   ]
  },
  {
   "cell_type": "code",
   "execution_count": 40,
   "metadata": {
    "collapsed": false
   },
   "outputs": [],
   "source": [
    "import pandas as pd\n",
    "a = pd.DataFrame(res)"
   ]
  },
  {
   "cell_type": "code",
   "execution_count": 48,
   "metadata": {
    "collapsed": false
   },
   "outputs": [
    {
     "data": {
      "text/plain": [
       "array([['Rockwell', 'NNP', 'B-NP', 'B-NP'],\n",
       "       ['International', 'NNP', 'I-NP', 'I-NP'],\n",
       "       ['Corp.', 'NNP', 'I-NP', 'I-NP'], ...,\n",
       "       ['Harlow', 'NNP', 'I-NP', 'I-NP'], ['.', '.', 'O', 'O'], []], dtype=object)"
      ]
     },
     "execution_count": 48,
     "metadata": {},
     "output_type": "execute_result"
    }
   ],
   "source": [
    "np.asarray(res)"
   ]
  },
  {
   "cell_type": "code",
   "execution_count": 4,
   "metadata": {
    "collapsed": false
   },
   "outputs": [
    {
     "data": {
      "text/plain": [
       "[2, [2]]"
      ]
     },
     "execution_count": 4,
     "metadata": {},
     "output_type": "execute_result"
    }
   ],
   "source": []
  },
  {
   "cell_type": "code",
   "execution_count": 5,
   "metadata": {
    "collapsed": true
   },
   "outputs": [],
   "source": []
  },
  {
   "cell_type": "code",
   "execution_count": 6,
   "metadata": {
    "collapsed": false
   },
   "outputs": [
    {
     "data": {
      "text/plain": [
       "[2, [2], []]"
      ]
     },
     "execution_count": 6,
     "metadata": {},
     "output_type": "execute_result"
    }
   ],
   "source": []
  },
  {
   "cell_type": "code",
   "execution_count": null,
   "metadata": {
    "collapsed": true
   },
   "outputs": [],
   "source": []
  }
 ],
 "metadata": {
  "kernelspec": {
   "display_name": "Python 3",
   "language": "python",
   "name": "python3"
  },
  "language_info": {
   "codemirror_mode": {
    "name": "ipython",
    "version": 3
   },
   "file_extension": ".py",
   "mimetype": "text/x-python",
   "name": "python",
   "nbconvert_exporter": "python",
   "pygments_lexer": "ipython3",
   "version": "3.5.0"
  }
 },
 "nbformat": 4,
 "nbformat_minor": 0
}
