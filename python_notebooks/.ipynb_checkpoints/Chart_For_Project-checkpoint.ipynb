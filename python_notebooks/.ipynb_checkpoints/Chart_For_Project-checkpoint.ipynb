{
 "cells": [
  {
   "cell_type": "code",
   "execution_count": null,
   "metadata": {
    "collapsed": true
   },
   "outputs": [],
   "source": [
    "%matplotlib inline\n",
    "\n",
    "conll_baseline = [\n",
    "1.202000000000000013e-01,\n",
    "1.824866666666666581e-01,\n",
    "2.856266666666666398e-01,\n",
    "4.726066666666666749e-01,\n",
    "6.081600000000000339e-01,\n",
    "6.883799999999999919e-01,\n",
    "7.427333333333333565e-01,\n",
    "7.836733333333333329e-01,\n",
    "8.117466666666666164e-01,\n",
    "8.345466666666666589e-01,\n",
    "8.485399999999999610e-01,\n",
    "8.617799999999999905e-01,\n",
    "8.723666666666666236e-01,\n",
    "8.815133333333333709e-01,\n",
    "8.886933333333333351e-01,\n",
    "8.931599999999999540e-01,\n",
    "8.996666666666666146e-01,\n",
    "9.050599999999999756e-01,\n",
    "9.084933333333333749e-01,\n",
    "9.120933333333333115e-01,\n",
    "9.154933333333333811e-01,\n",
    "9.183599999999999541e-01,\n",
    "9.206533333333333236e-01,\n",
    "9.241866666666667118e-01,\n",
    "9.270666666666667055e-01,\n",
    "9.280266666666666664e-01,\n",
    "9.294400000000000439e-01,\n",
    "9.323533333333333672e-01,\n",
    "9.323666666666666769e-01,\n",
    "9.353599999999999692e-01\n",
    "]\n",
    "    \n",
    "    \n",
    "semi_train_pos=[\n",
    "1.159466666666666701e-01,\n",
    "8.516333333333333533e-01,\n",
    "9.160599999999999854e-01,\n",
    "9.472866666666667212e-01,\n",
    "9.577400000000000357e-01,\n",
    "9.641666666666666163e-01,\n",
    "9.688200000000000145e-01,\n",
    "9.741600000000000259e-01,\n",
    "9.776333333333333542e-01,\n",
    "9.808799999999999741e-01,\n",
    "9.843733333333333224e-01,\n",
    "9.861933333333333662e-01,\n",
    "9.871133333333332871e-01,\n",
    "9.888400000000000523e-01,\n",
    "9.902666666666666284e-01,\n",
    "9.914133333333333686e-01,\n",
    "9.925333333333333785e-01,\n",
    "9.935599999999999987e-01,\n",
    "9.943400000000000016e-01,\n",
    "9.946199999999999486e-01,\n",
    "9.949933333333332852e-01,\n",
    "9.955600000000000005e-01,\n",
    "9.955399999999999805e-01,\n",
    "9.959799999999999764e-01,\n",
    "9.961466666666666248e-01,\n",
    "9.963533333333333131e-01,\n",
    "9.963466666666667138e-01,\n",
    "9.969733333333333780e-01,\n",
    "9.973066666666666746e-01,\n",
    "9.973466666666667146e-01\n",
    "]\n"
   ]
  },
  {
   "cell_type": "code",
   "execution_count": null,
   "metadata": {
    "collapsed": false
   },
   "outputs": [],
   "source": [
    "len(conll_baseline)"
   ]
  },
  {
   "cell_type": "code",
   "execution_count": null,
   "metadata": {
    "collapsed": false
   },
   "outputs": [],
   "source": [
    "len(semi_train_pos)"
   ]
  },
  {
   "cell_type": "code",
   "execution_count": null,
   "metadata": {
    "collapsed": false
   },
   "outputs": [],
   "source": []
  },
  {
   "cell_type": "code",
   "execution_count": 3,
   "metadata": {
    "collapsed": false
   },
   "outputs": [],
   "source": [
    "import matplotlib.pyplot as plt\n",
    "import numpy as np\n",
    "import seaborn as sns"
   ]
  },
  {
   "cell_type": "code",
   "execution_count": null,
   "metadata": {
    "collapsed": true
   },
   "outputs": [],
   "source": [
    "sns.set_style(\"darkgrid\")\n",
    "plt.plot(np.cumsum(np.random.randn(1000,1)))\n",
    "pltp\n",
    "plt.show()"
   ]
  }
 ],
 "metadata": {
  "kernelspec": {
   "display_name": "Python 3",
   "language": "python",
   "name": "python3"
  },
  "language_info": {
   "codemirror_mode": {
    "name": "ipython",
    "version": 3
   },
   "file_extension": ".py",
   "mimetype": "text/x-python",
   "name": "python",
   "nbconvert_exporter": "python",
   "pygments_lexer": "ipython3",
   "version": "3.5.1"
  }
 },
 "nbformat": 4,
 "nbformat_minor": 0
}
