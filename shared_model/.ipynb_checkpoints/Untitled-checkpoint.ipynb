{
 "cells": [
  {
   "cell_type": "markdown",
   "metadata": {},
   "source": [
    "# Evaluations\n",
    "\n",
    "## Joint Model"
   ]
  },
  {
   "cell_type": "code",
   "execution_count": 1,
   "metadata": {
    "collapsed": false
   },
   "outputs": [
    {
     "name": "stdout",
     "output_type": "stream",
     "text": [
      "generating latex tables - chunk train\n",
      "program output:         & Precision &  Recall  & F$_{\\beta=1} \\\\\\hline\n",
      "ADJP    &   67.02\\% &  60.96\\% &  63.85 \\\\\n",
      "ADVP    &   73.40\\% &  76.09\\% &  74.72 \\\\\n",
      "CONJP   &    0.00\\% &   0.00\\% &   0.00 \\\\\n",
      "INTJ    &    0.00\\% &   0.00\\% &   0.00 \\\\\n",
      "LST     &    0.00\\% &   0.00\\% &   0.00 \\\\\n",
      "NP      &   91.40\\% &  94.54\\% &  92.94 \\\\\n",
      "PP      &   92.26\\% &  95.37\\% &  93.79 \\\\\n",
      "PRT     &   71.65\\% &  77.25\\% &  74.34 \\\\\n",
      "SBAR    &   79.61\\% &  69.25\\% &  74.07 \\\\\n",
      "UCP     &    0.00\\% &   0.00\\% &   0.00 \\\\\n",
      "VP      &   87.96\\% &  90.21\\% &  89.07 \\\\\\hline\n",
      "Overall &   89.38\\% &  91.72\\% &  90.54 \\\\\\hline\n",
      "\n",
      "generating latex tables - chunk valid\n",
      "program output:         & Precision &  Recall  & F$_{\\beta=1} \\\\\\hline\n",
      "ADJP    &   57.77\\% &  46.75\\% &  51.68 \\\\\n",
      "ADVP    &   69.26\\% &  70.05\\% &  69.65 \\\\\n",
      "CONJP   &    0.00\\% &   0.00\\% &   0.00 \\\\\n",
      "INTJ    &    0.00\\% &   0.00\\% &   0.00 \\\\\n",
      "NP      &   85.48\\% &  88.99\\% &  87.20 \\\\\n",
      "PP      &   90.30\\% &  94.30\\% &  92.26 \\\\\n",
      "PRT     &   58.73\\% &  74.00\\% &  65.49 \\\\\n",
      "SBAR    &   72.50\\% &  62.06\\% &  66.88 \\\\\n",
      "UCP     &    0.00\\% &   0.00\\% &   0.00 \\\\\n",
      "VP      &   78.52\\% &  82.44\\% &  80.44 \\\\\\hline\n",
      "Overall &   83.64\\% &  86.51\\% &  85.05 \\\\\\hline\n",
      "\n",
      "generating accuracy - pos train\n",
      "0.96158\n",
      "generating accruacy - pos valid\n",
      "0.92572701654\n"
     ]
    }
   ],
   "source": [
    "import os\n",
    "from pos_eval import pos_eval\n",
    "import numpy as np\n",
    "import subprocess\n",
    "\n",
    "print('generating latex tables - chunk train')\n",
    "cmd = 'perl eval.pl -l < ../../data/current_outcome/chunk_pred_train.txt'\n",
    "proc = subprocess.Popen([cmd], stdout=subprocess.PIPE, shell=True)\n",
    "(out, err) = proc.communicate()\n",
    "print \"program output:\"\n",
    "print out\n",
    "\n",
    "print('generating latex tables - chunk valid')\n",
    "cmd = 'perl eval.pl -l < ../../data/current_outcome/chunk_pred_val.txt'\n",
    "proc = subprocess.Popen([cmd], stdout=subprocess.PIPE, shell=True)\n",
    "(out, err) = proc.communicate()\n",
    "print \"program output:\"\n",
    "print out\n",
    "\n",
    "print('generating accuracy - pos train')\n",
    "print(pos_eval('../../data/current_outcome/pos_pred_train.txt'))\n",
    "\n",
    "print('generating accruacy - pos valid')\n",
    "print(pos_eval('../../data/current_outcome/pos_pred_val.txt'))\n"
   ]
  },
  {
   "cell_type": "code",
   "execution_count": null,
   "metadata": {
    "collapsed": true
   },
   "outputs": [],
   "source": []
  },
  {
   "cell_type": "code",
   "execution_count": null,
   "metadata": {
    "collapsed": true
   },
   "outputs": [],
   "source": []
  }
 ],
 "metadata": {
  "kernelspec": {
   "display_name": "Python 2",
   "language": "python",
   "name": "python2"
  },
  "language_info": {
   "codemirror_mode": {
    "name": "ipython",
    "version": 2
   },
   "file_extension": ".py",
   "mimetype": "text/x-python",
   "name": "python",
   "nbconvert_exporter": "python",
   "pygments_lexer": "ipython2",
   "version": "2.7.11"
  }
 },
 "nbformat": 4,
 "nbformat_minor": 0
}
